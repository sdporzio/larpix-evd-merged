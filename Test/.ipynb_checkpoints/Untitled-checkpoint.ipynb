{
 "cells": [
  {
   "cell_type": "code",
   "execution_count": 2,
   "id": "59f5b3b0-eedd-4b07-a748-626f9de2bfd5",
   "metadata": {},
   "outputs": [],
   "source": [
    "%matplotlib inline\n",
    "### Standard imports\n",
    "import uproot, uproot3, h5py\n",
    "import numpy as np\n",
    "import pandas as pd\n",
    "import matplotlib.pyplot as plt\n",
    "from tqdm.notebook import tqdm\n",
    "### 3D PLOTTING\n",
    "import mpl_toolkits.mplot3d.art3d as art3d\n",
    "import matplotlib.gridspec as gridspec\n",
    "### HEPKIT imports\n",
    "import hepkit.hepData as hd\n",
    "import hepkit.hepIO as hio\n",
    "import hepkit.hepPlot as hp\n",
    "import hepkit.hepFormat as hf\n",
    "# ### Settings\n",
    "hf.DefaultSetup()\n",
    "\n",
    "def TimeToDist(time):\n",
    "    # 0.50 kV/cm --> vd = 1.647 mm/us\n",
    "    dist = 1.647*time # mm\n",
    "    return dist"
   ]
  },
  {
   "cell_type": "code",
   "execution_count": 3,
   "id": "03256d91-c97f-453a-9fbf-2eb4493392aa",
   "metadata": {},
   "outputs": [
    {
     "name": "stdout",
     "output_type": "stream",
     "text": [
      "Available branches: ['events', 'ext_trigs', 'hits', 'info', 'tracks']\n",
      "Available keys in events: ['evid', 'track_ref', 'hit_ref', 'nhit', 'q', 'ts_start', 'ts_end', 'ntracks', 'ext_trig_ref', 'n_ext_trigs', 'unix_ts', 'q_raw']\n",
      "Available keys in ext_trigs: ['trig_id', 'event_ref', 'ts', 'type']\n",
      "Available keys in hits: ['hid', 'px', 'py', 'ts', 'q', 'iochannel', 'iogroup', 'chipid', 'channelid', 'geom', 'event_ref', 'q_raw']\n",
      "Available keys in tracks: ['track_id', 'event_ref', 'hit_ref', 'theta', 't0', 'phi', 'xp', 'yp', 'nhit', 'q', 'ts_start', 'ts_end', 'residual', 'length', 'start', 'end', 'q_raw', 't0_type']\n"
     ]
    }
   ],
   "source": [
    "fname = '/home/sparsa/analysis/data/evd_data/datalog_2021_04_02_22_38_12_CEST_evd.h5'\n",
    "branch = 'hits'\n",
    "h5 = h5py.File(fname,'r')\n",
    "print(f'Available branches: {[t for t in h5.keys()]}')\n",
    "events = h5['events']\n",
    "print(f'Available keys in events: {[t for t in events.dtype.names]}')\n",
    "ext_trigs = h5['ext_trigs']\n",
    "print(f'Available keys in ext_trigs: {[t for t in ext_trigs.dtype.names]}')\n",
    "hits = h5['hits']\n",
    "print(f'Available keys in hits: {[t for t in hits.dtype.names]}')\n",
    "tracks = h5['tracks']\n",
    "print(f'Available keys in tracks: {[t for t in tracks.dtype.names]}')"
   ]
  },
  {
   "cell_type": "code",
   "execution_count": 46,
   "id": "a30ad08c-4832-4b6f-92e4-3c53ba9b0b10",
   "metadata": {},
   "outputs": [
    {
     "name": "stdout",
     "output_type": "stream",
     "text": [
      "CPU times: user 24 s, sys: 11.2 s, total: 35.2 s\n",
      "Wall time: 37.8 s\n"
     ]
    }
   ],
   "source": [
    "%%time\n",
    "df = pd.DataFrame()\n",
    "df['q'] = h5['hits']['q']\n",
    "df['iogroup'] = h5['hits']['iogroup']\n",
    "df['iochannel'] = h5['hits']['iochannel']\n",
    "df['chipid'] = h5['hits']['chipid']\n",
    "df['channelid'] = h5['hits']['channelid']"
   ]
  },
  {
   "cell_type": "code",
   "execution_count": 53,
   "id": "23ed481c-0658-4d12-a203-69ac43533411",
   "metadata": {},
   "outputs": [
    {
     "data": {
      "text/plain": [
       "array([1, 2])"
      ]
     },
     "execution_count": 53,
     "metadata": {},
     "output_type": "execute_result"
    }
   ],
   "source": [
    "df['iogroup'].unique()"
   ]
  },
  {
   "cell_type": "code",
   "execution_count": 43,
   "id": "3f9dbd88-44fd-473f-841f-e1550edcd4b4",
   "metadata": {},
   "outputs": [
    {
     "data": {
      "application/vnd.jupyter.widget-view+json": {
       "model_id": "2a02e966fde74178bfac30eadaa458ca",
       "version_major": 2,
       "version_minor": 0
      },
      "text/plain": [
       "  0%|          | 0/256 [00:00<?, ?it/s]"
      ]
     },
     "metadata": {},
     "output_type": "display_data"
    },
    {
     "name": "stdout",
     "output_type": "stream",
     "text": [
      "CPU times: user 40.7 s, sys: 15.2 s, total: 55.9 s\n",
      "Wall time: 41.6 s\n"
     ]
    }
   ],
   "source": [
    "sumCharge = np.zeros(256)\n",
    "for i in tqdm(range(256)):\n",
    "    sumCharge[i] = df.query(f'chipid=={i}')['q'].sum()"
   ]
  },
  {
   "cell_type": "code",
   "execution_count": 45,
   "id": "72f07cd5-a18a-40df-92d7-e2d436b7b44d",
   "metadata": {},
   "outputs": [
    {
     "data": {
      "text/plain": [
       "('hid',\n",
       " 'px',\n",
       " 'py',\n",
       " 'ts',\n",
       " 'q',\n",
       " 'iochannel',\n",
       " 'iogroup',\n",
       " 'chipid',\n",
       " 'channelid',\n",
       " 'geom',\n",
       " 'event_ref',\n",
       " 'q_raw')"
      ]
     },
     "execution_count": 45,
     "metadata": {},
     "output_type": "execute_result"
    }
   ],
   "source": [
    "h5['hits'].dtype.names"
   ]
  },
  {
   "cell_type": "code",
   "execution_count": 39,
   "id": "77366e63-ab96-4f99-b61a-ec8ab88271e8",
   "metadata": {},
   "outputs": [
    {
     "data": {
      "text/plain": [
       "array([ 12,  13,  14,  16,  17,  21,  23,  27,  29,  33,  34,  36,  42,\n",
       "        43,  44,  45,  46,  48,  51,  54,  55,  56,  57,  58,  59,  63,\n",
       "        64,  65,  66,  67,  68,  69,  71,  72,  73,  74,  77,  79,  85,\n",
       "        86,  89,  82,  83,  92,  93,  94,  95,  99, 102, 105, 106, 108,\n",
       "       110,  11,  18,  19,  26,  31,  38,  47,  49,  60,  61,  62,  70,\n",
       "        87,  84,  91,  98, 107,  15,  22,  24,  32,  39,  40,  41,  52,\n",
       "        53,  75,  80,  88,  90,  81,  96, 100, 101,  28,  30,  37,  76,\n",
       "        78,  97, 103, 104, 109,  25,  50,  35,   0,  20, 121, 113, 114,\n",
       "       116, 126,   8, 111,   6, 122, 123,   7, 124, 125, 112, 115,   5,\n",
       "         9,   2,   1,   4,   3,  10])"
      ]
     },
     "execution_count": 39,
     "metadata": {},
     "output_type": "execute_result"
    }
   ],
   "source": [
    "df['chipid'].unique()"
   ]
  },
  {
   "cell_type": "code",
   "execution_count": 41,
   "id": "8e0eff73-255b-4410-a17b-61137672a197",
   "metadata": {},
   "outputs": [
    {
     "data": {
      "text/plain": [
       "123"
      ]
     },
     "execution_count": 41,
     "metadata": {},
     "output_type": "execute_result"
    }
   ],
   "source": [
    "len(df['chipid'].unique())"
   ]
  },
  {
   "cell_type": "code",
   "execution_count": 42,
   "id": "7c22a24a-541c-4c05-9f0b-a51d01eaa4cd",
   "metadata": {},
   "outputs": [
    {
     "data": {
      "text/plain": [
       "126"
      ]
     },
     "execution_count": 42,
     "metadata": {},
     "output_type": "execute_result"
    }
   ],
   "source": [
    "df['chipid'].max()"
   ]
  },
  {
   "cell_type": "code",
   "execution_count": null,
   "id": "18a40647-edbe-4bb6-80ed-6027d7af438a",
   "metadata": {},
   "outputs": [],
   "source": []
  }
 ],
 "metadata": {
  "kernelspec": {
   "display_name": "Python 3",
   "language": "python",
   "name": "python3"
  },
  "language_info": {
   "codemirror_mode": {
    "name": "ipython",
    "version": 3
   },
   "file_extension": ".py",
   "mimetype": "text/x-python",
   "name": "python",
   "nbconvert_exporter": "python",
   "pygments_lexer": "ipython3",
   "version": "3.7.10"
  }
 },
 "nbformat": 4,
 "nbformat_minor": 5
}
