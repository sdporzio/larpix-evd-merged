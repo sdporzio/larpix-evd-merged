{
 "cells": [
  {
   "cell_type": "code",
   "execution_count": 1,
   "id": "689bc12b-dcc1-4a8b-bbcb-cc9740e31738",
   "metadata": {},
   "outputs": [],
   "source": [
    "%matplotlib inline\n",
    "### Standard imports\n",
    "import uproot\n",
    "import numpy as np\n",
    "import pandas as pd\n",
    "import matplotlib.pyplot as plt\n",
    "from tqdm.notebook import tqdm\n",
    "import h5py\n",
    "### HEPKIT imports\n",
    "import hepkit.hepData as hd\n",
    "import hepkit.hepIO as hio\n",
    "import hepkit.hepPlot as hp\n",
    "import hepkit.hepFormat as hf\n",
    "### Settings\n",
    "hf.DefaultSetup()\n",
    "hf.DefaultSetup()\n",
    "\n",
    "\n",
    "mc = [\n",
    "    [35/255,55/255,59/255],\n",
    "    [237/255,138/255,46/255],\n",
    "    [131/255,40/255,0/255],\n",
    "    [0/255,123/255,68/255],\n",
    "    [107/255,60/255,79/255],\n",
    "    [118/255,93/255,68/255],\n",
    "    [62/255,79/255,51/255],\n",
    "    [147/255,161/255,161/255]\n",
    "]"
   ]
  },
  {
   "cell_type": "code",
   "execution_count": 3,
   "id": "52bad307-3e58-44d2-a9ea-c44fbc8eda79",
   "metadata": {},
   "outputs": [
    {
     "name": "stdout",
     "output_type": "stream",
     "text": [
      "<KeysViewHDF5 ['events', 'ext_trigs', 'hits', 'info', 'tracks']>\n",
      "('track_id', 'event_ref', 'hit_ref', 'theta', 't0', 'phi', 'xp', 'yp', 'nhit', 'q', 'ts_start', 'ts_end', 'residual', 'length', 'start', 'end', 'q_raw', 't0_type')\n",
      "9495\n"
     ]
    }
   ],
   "source": [
    "path = '/home/dporzio/Data/MichelLimited/michel_datalog_2021_04_05_17_28_34_CEST_evd_limited.h5'\n",
    "df = h5py.File(path,'r')\n",
    "print(df.keys())\n",
    "tracks = df['tracks']\n",
    "print(tracks.dtype.names)\n",
    "print(len(tracks))"
   ]
  },
  {
   "cell_type": "code",
   "execution_count": 20,
   "id": "041418c3-da9e-446a-bce0-07d0f787da96",
   "metadata": {},
   "outputs": [
    {
     "data": {
      "text/plain": [
       "<HDF5 dataset \"tracks\": shape (0,), type \"|V209\">"
      ]
     },
     "execution_count": 20,
     "metadata": {},
     "output_type": "execute_result"
    }
   ],
   "source": [
    "df['tracks']"
   ]
  },
  {
   "cell_type": "code",
   "execution_count": null,
   "id": "b6d5642c-c51e-4cf9-90d4-d4fceb9a5846",
   "metadata": {},
   "outputs": [],
   "source": []
  }
 ],
 "metadata": {
  "kernelspec": {
   "display_name": "Python 3",
   "language": "python",
   "name": "python3"
  },
  "language_info": {
   "codemirror_mode": {
    "name": "ipython",
    "version": 3
   },
   "file_extension": ".py",
   "mimetype": "text/x-python",
   "name": "python",
   "nbconvert_exporter": "python",
   "pygments_lexer": "ipython3",
   "version": "3.7.10"
  }
 },
 "nbformat": 4,
 "nbformat_minor": 5
}
